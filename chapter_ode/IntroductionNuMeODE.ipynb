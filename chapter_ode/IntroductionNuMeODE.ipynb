{
 "cells": [
  {
   "cell_type": "markdown",
   "id": "11f537de-7bf1-4c90-85e1-8d33ca628bdf",
   "metadata": {
    "editable": true,
    "slideshow": {
     "slide_type": "slide"
    },
    "tags": []
   },
   "source": [
    "## Numerical solution of ordinary differential equations: Euler's and Heun's method\n",
    "As always we start by running some necessary boilerplate code."
   ]
  },
  {
   "cell_type": "code",
   "execution_count": 2,
   "id": "d0284644-fcb3-47b1-980e-ddefc0d1ecb5",
   "metadata": {
    "editable": true,
    "slideshow": {
     "slide_type": "slide"
    },
    "tags": []
   },
   "outputs": [],
   "source": [
    "import numpy as np\n",
    "import matplotlib.pyplot as plt\n",
    "import matplotlib.cm as cm\n",
    "\n",
    "newparams = {'figure.figsize': (6.0, 6.0), \n",
    "             'axes.grid': True,\n",
    "             'lines.markersize': 8, \n",
    "             'lines.linewidth': 2,\n",
    "             'font.size': 14}\n",
    "plt.rcParams.update(newparams)"
   ]
  },
  {
   "cell_type": "markdown",
   "id": "ec4b079e-2b9f-4a5b-b5b6-5a35b226a5ae",
   "metadata": {
    "editable": true,
    "slideshow": {
     "slide_type": "slide"
    },
    "tags": []
   },
   "source": [
    "### Euler's method\n",
    "Now we turn to our first numerical method,\n",
    "namely\n",
    "[Euler's method](https://wiki.math.ntnu.no/tma4100/tema/differentialequations?&#numeriske_losninger),\n",
    "known from Mathematics 1.\n",
    "We quickly review two alternative derivations,\n",
    "namely one based on *numerical differentiation*\n",
    "and one on *numerical integration*."
   ]
  },
  {
   "cell_type": "markdown",
   "id": "ccb4ac91",
   "metadata": {
    "editable": true,
    "slideshow": {
     "slide_type": "slide"
    },
    "tags": []
   },
   "source": [
    "**Derivation of Euler's method.**\n",
    "\n",
    "Euler's method is the simplest example of a so-called\n",
    "**one step method (OSM)**.\n",
    "Given the IVP\n",
    "\n",
    "$$\n",
    "y'(t) = f(t,y(t)), \\qquad y(t_0)=y_0,\n",
    "$$\n",
    "\n",
    "and some final time $T$,\n",
    "we want to compute an approximation of $y(t)$\n",
    "on $[t_0, T]$."
   ]
  },
  {
   "cell_type": "markdown",
   "id": "5860756f",
   "metadata": {
    "editable": true,
    "slideshow": {
     "slide_type": "slide"
    },
    "tags": []
   },
   "source": [
    "We start from $t_0$ and choose some (usually small) time step size\n",
    "$\\tau_0$ and set the new time $t_1 = t_0 + \\tau_0$. The goal is to\n",
    "compute a value $y_1$ serving as approximation of $y(t_1)$.\n",
    "\n",
    "To do so, we Taylor expand the exact (but unknown) solution\n",
    "$y(t_0+\\tau)$ around $x_0$:\n",
    "\n",
    "$$\n",
    "y(t_0+\\tau) = y(t_0) + \\tau y'(t_0) + \\frac{1}{2}\\tau^2 y''(t_0) + \\dotsm.\n",
    "$$"
   ]
  },
  {
   "cell_type": "markdown",
   "id": "e480c511",
   "metadata": {
    "editable": true,
    "slideshow": {
     "slide_type": "slide"
    },
    "tags": []
   },
   "source": [
    "Assume the step size $\\tau$ to be small such that the solution is\n",
    "dominated by the first two terms.\n",
    "In that case, these can be used as\n",
    "the numerical approximation in the next step $t_1 := t_0 + \\tau$:\n",
    "\n",
    "$$\n",
    "y(t_0+\\tau) \\approx  y(t_0) + \\tau y'(t_0) = y_0 + \\tau f(t_0, y_0)\n",
    "$$\n",
    "\n",
    "which means we compute  \n",
    "\n",
    "$$\n",
    "y_1 := y_0 + \\tau_0 f(t_0,y_0).\n",
    "$$\n",
    "\n",
    "as an approximation to $y(t_1)$"
   ]
  },
  {
   "cell_type": "markdown",
   "id": "7a2ea33d",
   "metadata": {
    "editable": true,
    "slideshow": {
     "slide_type": "slide"
    },
    "tags": []
   },
   "source": [
    "Now we can repeat this procedure and choose the next\n",
    "(possibly different) time\n",
    "step $\\tau_1$ and compute a numerical approximation $y_2$\n",
    "for $y(t)$ at $t_2 = t_1 + \\tau_1$ by setting\n",
    "\n",
    "$$\n",
    "y_2 = y_1 + \\tau_1 f(t_1,y_1).\n",
    "$$\n",
    "\n",
    "The idea is to repeat this procedure until we reached the\n",
    "final time $T$ resulting in the following"
   ]
  },
  {
   "cell_type": "markdown",
   "id": "118ce557",
   "metadata": {
    "editable": true,
    "slideshow": {
     "slide_type": "slide"
    },
    "tags": []
   },
   "source": [
    ":::{prf:algorithm} Euler's method\n",
    ":label: ode:alg:euler-meth\n",
    "\n",
    "**Input** Given a function $f(t,y)$, initial value $(t_0,y_0)$ and maximal  number of time steps $N$.\n",
    "\n",
    "**Output** Array  $\\{(t_k, y_k)\\}_{k=0}^{N}$ collecting approximate function value $y_k \\approx y(t_k)$. \n",
    "* Set $t = t_0$.\n",
    "\n",
    "* $\\texttt{while } t < T$:\n",
    "\n",
    "  * Choose $\\tau$\n",
    "\n",
    "  * $\\displaystyle y_{k+1} := y_{k} + \\tau f(t_k, y_k)$ \n",
    "\n",
    "  * $t_{k+1}:=t_k+\\tau_k$\n",
    "\n",
    "  * $t := t_{k+1}$\n",
    "\n",
    ":::"
   ]
  },
  {
   "cell_type": "markdown",
   "id": "19ef64c9",
   "metadata": {
    "editable": true,
    "slideshow": {
     "slide_type": "slide"
    },
    "tags": []
   },
   "source": [
    "So we can think of the Euler method as a method\n",
    "which approximates the continuous but unknown solution\n",
    "$y(t): [t_0, T] \\to \\mathbb{R}$\n",
    "by a discrete function\n",
    "$y_{\\Delta}:\\{t_0, t_1, \\ldots, t_{N_t}\\}$\n",
    "such that $y_{\\Delta}(t_k) := y_k \\approx y(t_k)$.\n",
    "\n",
    "How to choose $\\tau_i$? The simplest possibility\n",
    "is to set a maximum number of steps $N_{\\mathrm{max}} = N_t$ and then\n",
    "to chose a *constant time step* $\\tau = (T-t_0)/N_{\\mathrm{max}}$\n",
    "resulting in $N_{\\mathrm{max}}+1$ equidistributed points.\n",
    "Later we will also learn, how to choose the\n",
    "*time step adaptively*, depending on the\n",
    "solution's behavior."
   ]
  },
  {
   "cell_type": "markdown",
   "id": "2f826ae3",
   "metadata": {
    "editable": true,
    "slideshow": {
     "slide_type": "fragment"
    },
    "tags": []
   },
   "source": [
    "Also, in order to compute an approximation\n",
    "at the next point $t_{k+1}$,\n",
    "Euler's method only needs to know $f$, $\\tau_k$\n",
    "and the solution $y_k$ at the *current* point $t_k$,\n",
    "but not at earlier points $t_{k-1}, t_{k-2}, \\ldots$\n",
    "Thus Euler's method\n",
    "is an prototype of a so-called **One Step Method (OSM)**.\n",
    "We will formalize this concept later."
   ]
  },
  {
   "cell_type": "markdown",
   "id": "30af11b8",
   "metadata": {
    "editable": true,
    "slideshow": {
     "slide_type": "slide"
    },
    "tags": []
   },
   "source": [
    "**Numerical solution between the nodes.**\n",
    "\n",
    "At first we have only an approximation of $y(t)$\n",
    "at the $N_t +1 $ nodes $y_{\\Delta}:\\{t_0, t_1, \\ldots, t_{N_t}\\}$.\n",
    "If we want to evaluate the numerical solution between the\n",
    "nodes, a natural idea is to extend the discrete solution\n",
    "linearly between each pair of time nodes $t_{k}, t_{k+1}$.\n",
    "This is compatible with the way the numerical solution can\n",
    "be plotted, namely by connected each pair\n",
    "$(t_k, y_k)$ and $(t_{k+1}, y_{k+1})$ with straight lines."
   ]
  },
  {
   "cell_type": "markdown",
   "id": "f9bf6a39",
   "metadata": {
    "editable": true,
    "slideshow": {
     "slide_type": "slide"
    },
    "tags": []
   },
   "source": [
    "**Interpretation: Euler's method via forward difference operators.**\n",
    "\n",
    "After rearranging terms,\n",
    "we can also interpret the computation of\n",
    "an approximation $y_1 \\approx y(t_1)$\n",
    "as replacing the\n",
    "derivative $y'(t_0) = f(t_0, y_0)$ with a **forward difference operator**\n",
    "\n",
    "$$\n",
    "f(t_0,y_0) = y'(t_0) \\approx\n",
    " \\dfrac{y(t_1) - y(t_0)}{\\tau}\n",
    "$$\n",
    "\n",
    "Thus *Euler's method replace the differential quotient\n",
    "by a difference quotient.*"
   ]
  },
  {
   "cell_type": "markdown",
   "id": "9f2634fc",
   "metadata": {
    "editable": true,
    "slideshow": {
     "slide_type": "slide"
    },
    "tags": []
   },
   "source": [
    "**Alternative derivation via numerical integration.**\n",
    "Recall that for a function $f: [a,b] \\to \\mathbb{R}$, we can\n",
    "approximate its integral $\\int_a^b f(t) {\\,\\mathrm{d}t}$ using\n",
    "a *very simple* \n",
    "left endpoint quadrature rule from {prf:ref}`exa-known-qr-rules`,\n",
    "\n",
    "\\begin{equation}\n",
    "\\int_a^b f(t) {\\,\\mathrm{d}t} \\approx (b-a) f(a).\n",
    "\\end{equation}"
   ]
  },
  {
   "cell_type": "markdown",
   "id": "4d98fd6c",
   "metadata": {
    "editable": true,
    "slideshow": {
     "slide_type": "fragment"
    },
    "tags": []
   },
   "source": [
    "Turning to our IVP, we now formally integrate\n",
    "the ODE $y'(t) = f(t, y(t))$ on the time\n",
    "interval $I_k = [t_k, t_{k+1}]$\n",
    "and then apply the left endpoint quadrature rule\n",
    "to obtain\n",
    "\n",
    "$$\n",
    "y(t_{k+1}) - y(t_k)\n",
    "=\n",
    "\\int_{t_k}^{t_{k+1}} y'(t) {\\,\\mathrm{d}t}\n",
    "=\n",
    "\\int_{t_k}^{t_{k+1}} f(t,y(t)) {\\,\\mathrm{d}t}\n",
    "\\approx\n",
    "\\underbrace{(t_{k+1}-t_{k})}_{\\tau_k}f(t_k, y(t_k))\n",
    "$$"
   ]
  },
  {
   "cell_type": "markdown",
   "id": "9d15b4b3",
   "metadata": {
    "editable": true,
    "slideshow": {
     "slide_type": "fragment"
    },
    "tags": []
   },
   "source": [
    "Sorting terms gives us back Euler's method\n",
    "\n",
    "$$\n",
    "y(t_{k+1}) \\approx\n",
    "y(t_k) + \\tau_k f(t_k, y(t_k)).\n",
    "$$"
   ]
  },
  {
   "cell_type": "markdown",
   "id": "bb509819",
   "metadata": {
    "editable": true,
    "slideshow": {
     "slide_type": "slide"
    },
    "tags": []
   },
   "source": [
    "### Implementation of Euler's method\n",
    "Euler's method can be implemented in only a few lines of code:"
   ]
  },
  {
   "cell_type": "code",
   "execution_count": 3,
   "id": "bfd53223",
   "metadata": {
    "editable": true,
    "slideshow": {
     "slide_type": "fragment"
    },
    "tags": []
   },
   "outputs": [],
   "source": [
    "def explicit_euler(y0, t0, T, f, Nmax):\n",
    "    ys = [y0]\n",
    "    ts = [t0]\n",
    "    dt = (T - t0)/Nmax\n",
    "    while(ts[-1] < T):\n",
    "        t, y = ts[-1], ys[-1]  \n",
    "        ys.append(y + dt*f(t, y))\n",
    "        ts.append(t + dt)\n",
    "    return (np.array(ts), np.array(ys))"
   ]
  },
  {
   "cell_type": "markdown",
   "id": "f679a8d7",
   "metadata": {
    "editable": true,
    "slideshow": {
     "slide_type": "slide"
    },
    "tags": []
   },
   "source": [
    "Let's test Euler's method with the simple IVP given in {prf:ref}`exa-pop-growth-ode`."
   ]
  },
  {
   "cell_type": "code",
   "execution_count": 11,
   "id": "1e7f3437",
   "metadata": {
    "editable": true,
    "slideshow": {
     "slide_type": "fragment"
    },
    "tags": []
   },
   "outputs": [
    {
     "name": "stdout",
     "output_type": "stream",
     "text": [
      "1\n"
     ]
    }
   ],
   "source": [
    "t0, T = 0, 1\n",
    "y0 = 1\n",
    "lam = 1\n",
    "Nmax = 100\n",
    "\n",
    "# rhs of IVP\n",
    "f = lambda t,y: lam*y\n",
    "print(f(t0, y0))\n",
    "\n",
    "# Compute numerical solution using Euler\n",
    "ts, ys_eul = explicit_euler(y0, t0, T, f, Nmax)\n",
    "\n",
    "# Exact solution to compare against\n",
    "y_ex = lambda t: y0*np.exp(lam*(t-t0))\n",
    "ys_ex = y_ex(ts)"
   ]
  },
  {
   "cell_type": "code",
   "execution_count": 13,
   "id": "c01d912f",
   "metadata": {
    "editable": true,
    "slideshow": {
     "slide_type": "slide"
    },
    "tags": []
   },
   "outputs": [
    {
     "data": {
      "text/plain": [
       "<matplotlib.legend.Legend at 0x124a67ed0>"
      ]
     },
     "execution_count": 13,
     "metadata": {},
     "output_type": "execute_result"
    },
    {
     "data": {
      "image/png": "[encoded data removed]",
      "text/plain": [
       "<Figure size 600x600 with 1 Axes>"
      ]
     },
     "metadata": {},
     "output_type": "display_data"
    }
   ],
   "source": [
    "# Plot it\n",
    "plt.figure()\n",
    "plt.plot(ts, ys_ex, 'b-')\n",
    "plt.plot(ts, ys_eul, 'r--')\n",
    "plt.legend([\"$y_{ex}$\", \"$y_{eul}$\" ])"
   ]
  },
  {
   "cell_type": "markdown",
   "id": "91b5deda",
   "metadata": {
    "editable": true,
    "slideshow": {
     "slide_type": "slide"
    },
    "tags": []
   },
   "source": [
    "Plot the solution for various $N_t$,\n",
    "say $N_t = 4, 8, 16, 32$ against the exact solution given in \n",
    "{prf:ref}`exa-pop-growth-ode`."
   ]
  },
  {
   "cell_type": "markdown",
   "id": "51e2ac08",
   "metadata": {
    "editable": true,
    "slideshow": {
     "slide_type": "slide"
    },
    "tags": []
   },
   "source": [
    ":::{exercise} Error study for the Euler's method\n",
    ":label: ode:exe:euler-error-study\n",
    "\n",
    "We observed that the more we decrease the constant step size $\\tau$ (or increase $N_{\\mathrm{max}}$),\n",
    "the closer the numerical solution gets to the exact solution.\n",
    "\n",
    "Now we ask you to quantify this. More precisely,\n",
    "write some code to compute the error\n",
    "\n",
    "$$\n",
    "\\max_{i \\in \\{0, \\ldots, N_{\\mathrm{max}}\\}} |y(t_i) - y_i|\n",
    "$$\n",
    "\n",
    "for $N_{\\mathrm{max}} = 4, 8, 16, 32, 64, 128$.\n",
    "How does the error reduces if you double the number of points?\n",
    "\n",
    ":::"
   ]
  },
  {
   "cell_type": "markdown",
   "id": "4acf29cd",
   "metadata": {
    "editable": true,
    "slideshow": {
     "slide_type": "slide"
    },
    "tags": []
   },
   "source": [
    "Complete the following code outline by filling in the missing\n",
    "code indicated by `...`."
   ]
  },
  {
   "cell_type": "markdown",
   "id": "500a2ef0",
   "metadata": {
    "editable": true,
    "slideshow": {
     "slide_type": "slide"
    },
    "tags": []
   },
   "source": [
    "```{code-block} python\n",
    "def error_study(y0, t0, T, f, Nmax_list, solver, y_ex):\n",
    "    \"\"\"\n",
    "    Performs an error study for a given ODE solver by computing the maximum error \n",
    "    between the numerical solution and the exact solution for different values of Nmax.\n",
    "    Print the list of error reduction rates computed from two consecutively solves.\n",
    "\n",
    "    Parameters:\n",
    "      y0 : Initial condition.\n",
    "      t0 : Initial time.\n",
    "      T (float): Final time.\n",
    "      f (function): Function representing the ODE.\n",
    "      Nmax_list (list of int): List of maximum number of steps to use in the solver.\n",
    "      solver (function): Numerical solver function.\n",
    "      y_ex (function): Exact solution function.\n",
    "\n",
    "    Returns:\n",
    "      None\n",
    "    \"\"\"\n",
    "    max_errs = []\n",
    "    for Nmax in Nmax_list:\n",
    "        # Compute list of timestep ts and computed solution ys\n",
    "        ts, ys = ...\n",
    "        # Evaluate y_ex in ts\n",
    "        ys_ex = ...\n",
    "        # Compute max error for given solution and print it\n",
    "        max_errs.append(...)\n",
    "        print(f\"For Nmax = {Nmax:3}, max ||y(t_i) - y_i||= {max_errs[-1]:.3e}\")\n",
    "    # Turn list into array to allow for vectorized division\n",
    "    max_errs = np.array(max_errs)\n",
    "    rates = ...\n",
    "    print(\"The computed error reduction rates are\")\n",
    "    print(rates)\n",
    "\n",
    "\n",
    "# Define list for N_max and run error study\n",
    "Nmax_list = [4, 8, 16, 32, 64, 128]\n",
    "error_study(y0, t0, T, f, Nmax_list, explicit_euler, y_ex)\n",
    "```"
   ]
  },
  {
   "cell_type": "code",
   "execution_count": 14,
   "id": "d08f54eb-bd61-4379-ac44-e3c11130a402",
   "metadata": {
    "editable": true,
    "slideshow": {
     "slide_type": "slide"
    },
    "tags": []
   },
   "outputs": [
    {
     "name": "stdout",
     "output_type": "stream",
     "text": [
      "For Nmax =   4, max ||y(t_i) - y_i||= 2.769e-01\n",
      "For Nmax =   8, max ||y(t_i) - y_i||= 1.525e-01\n",
      "For Nmax =  16, max ||y(t_i) - y_i||= 8.035e-02\n",
      "For Nmax =  32, max ||y(t_i) - y_i||= 4.129e-02\n",
      "For Nmax =  64, max ||y(t_i) - y_i||= 2.094e-02\n",
      "For Nmax = 128, max ||y(t_i) - y_i||= 1.054e-02\n",
      "The computed error reduction rates are\n",
      "[1.81560954 1.89783438 1.94599236 1.97219964 1.98589165]\n"
     ]
    }
   ],
   "source": [
    "# Insert code here\n",
    "def error_study(y0, t0, T, f, Nmax_list, solver, y_ex):\n",
    "    max_errs = []\n",
    "    for Nmax in Nmax_list:\n",
    "        # Compute list of timestep ts and computed solution ys\n",
    "        ts, ys = solver(y0, t0, T, f, Nmax)\n",
    "        # Evaluate y_ex in ts\n",
    "        ys_ex = y_ex(ts)\n",
    "        # Compute max error for given solution and print it\n",
    "        max_errs.append(np.abs(ys_ex - ys).max())\n",
    "        print(f\"For Nmax = {Nmax:3}, max ||y(t_i) - y_i||= {max_errs[-1]:.3e}\")\n",
    "    # Turn list into array to allow for vectorized division\n",
    "    max_errs = np.array(max_errs)\n",
    "    rates = max_errs[:-1]/max_errs[1:]\n",
    "    print(\"The computed error reduction rates are\")\n",
    "    print(rates)\n",
    "\n",
    "# Define list for N_max and run error study\n",
    "Nmax_list = [4, 8, 16, 32, 64, 128]\n",
    "error_study(y0, t0, T, f, Nmax_list, explicit_euler, y_ex)"
   ]
  },
  {
   "cell_type": "markdown",
   "id": "c1e6aeab",
   "metadata": {
    "editable": true,
    "slideshow": {
     "slide_type": "slide"
    },
    "tags": []
   },
   "source": [
    ":::{solution-start} ode:exe:euler-error-study \n",
    ":::"
   ]
  },
  {
   "cell_type": "code",
   "execution_count": 15,
   "id": "c22c3e7b",
   "metadata": {
    "editable": true,
    "slideshow": {
     "slide_type": "fragment"
    },
    "tags": []
   },
   "outputs": [
    {
     "name": "stdout",
     "output_type": "stream",
     "text": [
      "For Nmax =   4, max ||y(t_i) - y_i||= 2.769e-01\n",
      "For Nmax =   8, max ||y(t_i) - y_i||= 1.525e-01\n",
      "For Nmax =  16, max ||y(t_i) - y_i||= 8.035e-02\n",
      "For Nmax =  32, max ||y(t_i) - y_i||= 4.129e-02\n",
      "For Nmax =  64, max ||y(t_i) - y_i||= 2.094e-02\n",
      "For Nmax = 128, max ||y(t_i) - y_i||= 1.054e-02\n",
      "The computed error reduction rates are\n",
      "[1.81560954 1.89783438 1.94599236 1.97219964 1.98589165]\n"
     ]
    }
   ],
   "source": [
    "def error_study(y0, t0, T, f, Nmax_list, solver, y_ex):\n",
    "    max_errs = []\n",
    "    for Nmax in Nmax_list:\n",
    "        ts, ys = solver(y0, t0, T, f, Nmax)\n",
    "        ys_ex = y_ex(ts)\n",
    "        errors = ys - ys_ex\n",
    "        max_errs.append(np.abs(errors).max())\n",
    "        print(f\"For Nmax = {Nmax:3}, max ||y(t_i) - y_i||= {max_errs[-1]:.3e}\")\n",
    "    max_errs = np.array(max_errs)\n",
    "    rates = max_errs[:-1]/max_errs[1:]\n",
    "    print(\"The computed error reduction rates are\")\n",
    "    print(rates)\n",
    "\n",
    "Nmax_list = [4, 8, 16, 32, 64, 128]\n",
    "error_study(y0, t0, T, f, Nmax_list, explicit_euler, y_ex)"
   ]
  },
  {
   "cell_type": "markdown",
   "id": "e9a63f85",
   "metadata": {
    "editable": true,
    "slideshow": {
     "slide_type": ""
    },
    "tags": []
   },
   "source": [
    ":::{solution-end}\n",
    ":::"
   ]
  },
  {
   "cell_type": "markdown",
   "id": "98fd4a86",
   "metadata": {
    "editable": true,
    "slideshow": {
     "slide_type": "slide"
    },
    "tags": []
   },
   "source": [
    "### Heun's method\n",
    "Before we start looking at more exciting examples, we will derive a one-step method that is more accurate than Euler's method. Note that Euler's method can be interpreted as being based on a quadrature rule with a degree of exactness equal to 0. Let's try to use a better quadrature rule!"
   ]
  },
  {
   "cell_type": "markdown",
   "id": "36b0336a",
   "metadata": {
    "editable": true,
    "slideshow": {
     "slide_type": "fragment"
    },
    "tags": []
   },
   "source": [
    "Again, we start from the *exact representation*, but this time we use the trapezoidal rule, which has a degree of exactness equal to $1$, yielding\n",
    "\n",
    "\\begin{align*}\n",
    "y(t_{k+1}) - y(t_k)\n",
    "&=\n",
    "\\int_{t_k}^{t_{k+1}} f(t,y(t)) {\\,\\mathrm{d}t}\n",
    "\\approx\n",
    "\\dfrac{\\tau_k}{2}\n",
    "\\left(\n",
    "f(t_{k+1}, y(t_{k+1})\n",
    "+\n",
    "f(t_{k}, y(t_{k})\n",
    "\\right)\n",
    "\\end{align*}"
   ]
  },
  {
   "cell_type": "markdown",
   "id": "eccd88a5",
   "metadata": {
    "editable": true,
    "slideshow": {
     "slide_type": "fragment"
    },
    "tags": []
   },
   "source": [
    "This suggest to consider the scheme\n",
    "\n",
    "\\begin{align*}\n",
    "y_{k+1} - y_k\n",
    "&=\n",
    "\\dfrac{\\tau_k}{2}\n",
    "\\left(\n",
    "f(t_{k+1}, y_{k+1})\n",
    "+\n",
    "f(t_{k}, y_{k})\n",
    "\\right)\n",
    "\\end{align*}"
   ]
  },
  {
   "cell_type": "markdown",
   "id": "7fac7e09",
   "metadata": {
    "editable": true,
    "slideshow": {
     "slide_type": "slide"
    },
    "tags": []
   },
   "source": [
    "But note that starting from $y_k$, we cannot immediately compute $y_{k+1}$\n",
    "as it appears also in the expression $f(t_{k+1}, y_{k+1})$!\n",
    "This is an example of an **implicit method**. We will discuss those later in detail.\n",
    "\n",
    "To turn this scheme into an **explicit** scheme, the idea is now to\n",
    "approximate $y_{k+1}$ appearing in $f$ with an explicit Euler step:"
   ]
  },
  {
   "cell_type": "markdown",
   "id": "d566d57c",
   "metadata": {
    "editable": true,
    "slideshow": {
     "slide_type": "fragment"
    },
    "tags": []
   },
   "source": [
    "$$\n",
    "\\begin{align*}\n",
    "y_{k+1}\n",
    "&=\n",
    "y_k +\n",
    "\\dfrac{\\tau_k}{2}\n",
    "\\left(\n",
    "f\\bigl(t_{k+1}, y_{k}+\\tau_k f(t_k, y_k)\\bigr)\n",
    "+\n",
    "f(t_{k}, y_k)\n",
    "\\right).\n",
    "\\end{align*}\n",
    "$$\n",
    "\n",
    "Observe that we have now nested evaluations of $f$. This can be best\n",
    "arranged by computing the nested expression in stages, first\n",
    "the inner one and then the outer one.\n",
    "This leads to the following recipe."
   ]
  },
  {
   "cell_type": "markdown",
   "id": "a528076e",
   "metadata": {
    "editable": true,
    "slideshow": {
     "slide_type": "slide"
    },
    "tags": []
   },
   "source": [
    ":::{prf:algorithm} Algorithm Heun's method\n",
    ":label: ode:alg:heun-meth\n",
    "\n",
    "Given a function $f(t,y)$ and an initial value $(t_0,y_0)$.\n",
    "* Set $t = t_0$.\n",
    "\n",
    "* $\\texttt{while } t < T$:\n",
    "\n",
    "  * Choose $\\tau_k$\n",
    "\n",
    "  * Compute stage $k_1 := f(t_k, y_k)$\n",
    "\n",
    "  * Compute stage $k_2 := f(t_k+\\tau_k, y_k+\\tau_k k_1)$\n",
    "\n",
    "  * $\\displaystyle y_{k+1} := y_{k} + \\tfrac{\\tau_k}{2}(k_1 + k_2)$ \n",
    "\n",
    "  * $t_{k+1}:=t_k+\\tau_k$\n",
    "\n",
    "  * $t := t_{k+1}$\n",
    "\n",
    "  :::\n",
    "\n",
    "The function `heun` can be implemented as follows:"
   ]
  },
  {
   "cell_type": "code",
   "execution_count": null,
   "id": "28b4a06a",
   "metadata": {
    "editable": true,
    "slideshow": {
     "slide_type": "slide"
    },
    "tags": []
   },
   "outputs": [],
   "source": [
    "def heun(y0, t0, T, f, Nmax):\n",
    "    ys = [y0]\n",
    "    ts = [t0]\n",
    "    dt = (T - t0)/Nmax\n",
    "    while(ts[-1] < T):\n",
    "        t, y = ts[-1], ys[-1]\n",
    "        k1 = f(t,y)\n",
    "        k2 = f(t+dt, y+dt*k1)\n",
    "        ys.append(y + 0.5*dt*(k1+k2))\n",
    "        ts.append(t + dt)\n",
    "    return (np.array(ts), np.array(ys))"
   ]
  },
  {
   "cell_type": "markdown",
   "id": "15899d76",
   "metadata": {
    "editable": true,
    "slideshow": {
     "slide_type": "slide"
    },
    "tags": []
   },
   "source": [
    ":::{exercise} Comparing Heun with Euler\n",
    ":label: exe:heun_vs_euler\n",
    "\n",
    "Solve {prf:ref}`exa-pop-growth-ode` with Heun, and plot\n",
    "both the exact solution, $y_{eul}$ and $y_{heun}$\n",
    "for $N_t = 4, 8, 16, 32$.\n",
    ":::"
   ]
  },
  {
   "cell_type": "code",
   "execution_count": null,
   "id": "005469ad",
   "metadata": {
    "editable": true,
    "slideshow": {
     "slide_type": "slide"
    },
    "tags": []
   },
   "outputs": [],
   "source": [
    "# Insert code here."
   ]
  },
  {
   "cell_type": "markdown",
   "id": "1003728d",
   "metadata": {
    "editable": true,
    "slideshow": {
     "slide_type": "slide"
    },
    "tags": []
   },
   "source": [
    ":::{solution-start} exe:heun_vs_euler\n",
    ":::"
   ]
  },
  {
   "cell_type": "code",
   "execution_count": 18,
   "id": "00d00ed6",
   "metadata": {
    "editable": true,
    "slideshow": {
     "slide_type": "fragment"
    },
    "tags": []
   },
   "outputs": [
    {
     "data": {
      "text/plain": [
       "<matplotlib.legend.Legend at 0x124ba4410>"
      ]
     },
     "execution_count": 18,
     "metadata": {},
     "output_type": "execute_result"
    },
    {
     "data": {
      "image/png": "[encoded data removed]",
      "text/plain": [
       "<Figure size 600x600 with 1 Axes>"
      ]
     },
     "metadata": {},
     "output_type": "display_data"
    }
   ],
   "source": [
    "t0, T = 0, 1\n",
    "y0 = 1\n",
    "lam = 1\n",
    "Nmax = 8\n",
    "\n",
    "# rhs of IVP\n",
    "f = lambda t,y: lam*y\n",
    "\n",
    "# Compute numerical solution using Euler and Heun\n",
    "ts, ys_eul = explicit_euler(y0, t0, T, f, Nmax)\n",
    "ts, ys_heun = heun(y0, t0, T, f, Nmax)\n",
    "\n",
    "# Exact solution to compare against\n",
    "y_ex = lambda t: y0*np.exp(lam*(t-t0))\n",
    "ys_ex = y_ex(ts)\n",
    "\n",
    "# Plot it\n",
    "plt.figure()\n",
    "plt.plot(ts, ys_ex)\n",
    "plt.plot(ts, ys_eul, 'ro-')\n",
    "plt.plot(ts, ys_heun, 'b+-')\n",
    "plt.legend([\"$y_{ex}$\", \"$y$ Euler\", \"$y$ Heun\" ])"
   ]
  },
  {
   "cell_type": "markdown",
   "id": "355cb2c7-9007-4f00-a704-addd4c4f08a6",
   "metadata": {
    "editable": true,
    "slideshow": {
     "slide_type": "fragment"
    },
    "tags": []
   },
   "source": [
    ":::{solution-end}\n",
    ":::"
   ]
  },
  {
   "cell_type": "markdown",
   "id": "6ec59309",
   "metadata": {
    "editable": true,
    "slideshow": {
     "slide_type": "slide"
    },
    "tags": []
   },
   "source": [
    "<!-- --- end solution of exercise --- -->"
   ]
  },
  {
   "cell_type": "markdown",
   "id": "1dd7bae5",
   "metadata": {
    "editable": true,
    "slideshow": {
     "slide_type": "fragment"
    },
    "tags": []
   },
   "source": [
    ":::{exercise} Error rates for Heun's method \n",
    ":label: exe:heun_rates\n",
    "Redo {ref}`ode:exe:euler-error-study` with Heun.\n",
    ":::"
   ]
  },
  {
   "cell_type": "code",
   "execution_count": null,
   "id": "b0405549",
   "metadata": {
    "editable": true,
    "slideshow": {
     "slide_type": "fragment"
    },
    "tags": []
   },
   "outputs": [],
   "source": [
    "# Insert code here."
   ]
  },
  {
   "cell_type": "markdown",
   "id": "800142e7-8558-4ac2-92ad-2a62effffd05",
   "metadata": {
    "editable": true,
    "slideshow": {
     "slide_type": "fragment"
    },
    "tags": []
   },
   "source": [
    ":::{solution-start} exe:heun_rates\n",
    ":::"
   ]
  },
  {
   "cell_type": "code",
   "execution_count": 19,
   "id": "1f29b62b-bf15-4df4-b810-d29369ab4e9e",
   "metadata": {
    "editable": true,
    "slideshow": {
     "slide_type": "fragment"
    },
    "tags": []
   },
   "outputs": [
    {
     "name": "stdout",
     "output_type": "stream",
     "text": [
      "For Nmax =   4, max ||y(t_i) - y_i||= 2.343e-02\n",
      "For Nmax =   8, max ||y(t_i) - y_i||= 6.441e-03\n",
      "For Nmax =  16, max ||y(t_i) - y_i||= 1.688e-03\n",
      "For Nmax =  32, max ||y(t_i) - y_i||= 4.322e-04\n",
      "For Nmax =  64, max ||y(t_i) - y_i||= 1.093e-04\n",
      "For Nmax = 128, max ||y(t_i) - y_i||= 2.749e-05\n",
      "The computed error reduction rates are\n",
      "[3.63726596 3.81482383 3.9067187  3.95322679 3.97658594]\n"
     ]
    }
   ],
   "source": [
    "Nmax_list = [4, 8, 16, 32, 64, 128]\n",
    "error_study(y0, t0, T, f, Nmax_list, heun, y_ex)"
   ]
  },
  {
   "cell_type": "markdown",
   "id": "a8a082c3-9b05-4900-9ef8-7e376910e79b",
   "metadata": {
    "editable": true,
    "slideshow": {
     "slide_type": "fragment"
    },
    "tags": []
   },
   "source": [
    ":::{solution-end}\n",
    ":::"
   ]
  },
  {
   "cell_type": "markdown",
   "id": "e8f55ab0",
   "metadata": {
    "editable": true,
    "slideshow": {
     "slide_type": "slide"
    },
    "tags": []
   },
   "source": [
    "### Applying Heun's and Euler's method"
   ]
  },
  {
   "cell_type": "markdown",
   "id": "7fe0e0fd",
   "metadata": {
    "editable": true,
    "slideshow": {
     "slide_type": "slide"
    },
    "tags": []
   },
   "source": [
    ":::{exercise} The Lotka-Volterra equation revisited\n",
    ":label: exe:lotka_volterra_with_heun\n",
    "\n",
    "Solve the Lotka-Volterra equation\n",
    "\n",
    "\\begin{align*}\n",
    "y'(t) &= \\alpha y(t) - \\beta y(t) z(t) \\\\ \n",
    "z'(t) &= \\delta y(t)z(t) - \\gamma z(t)\n",
    "\\end{align*}\n",
    "\n",
    "In this example, use the parameters and initial values\n",
    "\n",
    "$$\n",
    "\\alpha=2,\\quad \\beta=1, \\quad \\delta=0.5,\\quad \\gamma=1, \\qquad y_{1,0}=2,\n",
    "\\quad y_{2,0} = 0.5.\n",
    "$$\n",
    "\n",
    "Use Euler's method to solve the equation over the interval $[0,20]$,\n",
    "and use $\\tau=0.02$. Try also other step sizes, e.g. $\\tau=0.1$ and $\\tau=0.002$. What do you observe?\n",
    "\n",
    "Now use Heun's method with $\\tau=0.1$ Also try smaller step sizes.\n",
    "\n",
    "Compare Heun's and Euler's method. How small do you have to chose the time step in Euler's method to visually match the solution\n",
    "from Heun's method?\n",
    ":::"
   ]
  },
  {
   "cell_type": "markdown",
   "id": "76940d12",
   "metadata": {
    "editable": true,
    "slideshow": {
     "slide_type": "slide"
    },
    "tags": []
   },
   "source": [
    ":::{note}\n",
    "In this case, the exact solution is not known.  What is known is\n",
    "that the solutions are periodic and positive. Is this the case here?\n",
    "Check for different values of $\\tau$.\n",
    ":::"
   ]
  },
  {
   "cell_type": "markdown",
   "id": "37920e9e-d13d-4ffc-9169-138121031435",
   "metadata": {
    "editable": true,
    "slideshow": {
     "slide_type": ""
    },
    "tags": []
   },
   "source": [
    ":::{solution-start} exe:lotka_volterra_with_heun\n",
    ":::"
   ]
  },
  {
   "cell_type": "code",
   "execution_count": 21,
   "id": "6e3273fc-cc3c-4f6e-a21f-d88896606b2b",
   "metadata": {
    "editable": true,
    "slideshow": {
     "slide_type": "slide"
    },
    "tags": []
   },
   "outputs": [],
   "source": [
    "# Reset plotting parameters\n",
    "plt.rcParams.update({'figure.figsize': (12,6)})\n",
    "\n",
    "# Define rhs\n",
    "def lotka_volterra(t, y):\n",
    "    # Set parameters\n",
    "    alpha, beta, delta, gamma = 2, 1, 0.5, 1  \n",
    "    # Define rhs of ODE\n",
    "    dy = np.array([alpha*y[0]-beta*y[0]*y[1], \n",
    "                   delta*y[0]*y[1]-gamma*y[1]])\n",
    "    return dy\n",
    "\n",
    "t0, T = 0, 20            # Integration interval\n",
    "y0 = np.array([2, 0.5])  # Initital values"
   ]
  },
  {
   "cell_type": "code",
   "execution_count": 24,
   "id": "bc8feb51-06b4-41bc-8261-d9d87d32cb1a",
   "metadata": {
    "editable": true,
    "slideshow": {
     "slide_type": "slide"
    },
    "tags": []
   },
   "outputs": [
    {
     "name": "stdout",
     "output_type": "stream",
     "text": [
      "Nmax = 100000\n",
      "Nmax =  200\n"
     ]
    },
    {
     "data": {
      "text/plain": [
       "<matplotlib.legend.Legend at 0x124e22e90>"
      ]
     },
     "execution_count": 24,
     "metadata": {},
     "output_type": "execute_result"
    },
    {
     "data": {
      "image/png": "[encoded data removed]",
      "text/plain": [
       "<Figure size 1200x600 with 1 Axes>"
      ]
     },
     "metadata": {},
     "output_type": "display_data"
    }
   ],
   "source": [
    "# Solve the equation\n",
    "tau = 0.0002\n",
    "Nmax = int((T-t0)/tau)\n",
    "print(\"Nmax = {:4}\".format(Nmax))\n",
    "ts, ys_eul = explicit_euler(y0, t0, T, lotka_volterra, Nmax)\n",
    "\n",
    "# Plot results\n",
    "plt.figure()\n",
    "plt.plot(ts, ys_eul)\n",
    "\n",
    "# Solve the equation\n",
    "tau = 0.1\n",
    "Nmax = int((T-t0)/tau)\n",
    "print(\"Nmax = {:4}\".format(Nmax))\n",
    "ts, ys_heun = heun(y0, t0, T, lotka_volterra, Nmax)\n",
    "\n",
    "plt.plot(ts, ys_heun)\n",
    "plt.xlabel('t')\n",
    "plt.legend(['$y_0(t)$ - Euler', '$y_1(t)$ - Euler', '$y_0(t)$ - Heun', '$y_1(t)$ - Heun'],\n",
    "        loc=\"upper right\" )"
   ]
  },
  {
   "cell_type": "markdown",
   "id": "0f68cb57-17d3-48b3-9972-4ffca5a90a3d",
   "metadata": {
    "editable": true,
    "slideshow": {
     "slide_type": ""
    },
    "tags": []
   },
   "source": [
    ":::{solution-end}\n",
    ":::"
   ]
  },
  {
   "cell_type": "markdown",
   "id": "5af3e22b",
   "metadata": {
    "editable": true,
    "slideshow": {
     "slide_type": "slide"
    },
    "tags": []
   },
   "source": [
    "### Higher order ODEs\n",
    "How can we numerically solve higher order ODEs\n",
    "using, e.g., Euler's or Heun's method?\n",
    "\n",
    "Given the $m$-th order ODE\n",
    "\n",
    "$$\n",
    "u^{(m)}(t) = f\\big(t, u(t), u'(x), \\dotsc, u^{(m-1)}\\big).\n",
    "$$\n",
    "\n",
    "For a unique solution, we assume that the initial values\n",
    "\n",
    "$$\n",
    "u(t_0), u'(t_0), u''(t_0), \\dotsc, u^{(m-1)}(t_0)\n",
    "$$\n",
    "\n",
    "are known."
   ]
  },
  {
   "cell_type": "markdown",
   "id": "7f28dd77",
   "metadata": {
    "editable": true,
    "slideshow": {
     "slide_type": "slide"
    },
    "tags": []
   },
   "source": [
    "Such equations can be written as a system of first order ODEs by the\n",
    "following trick:\n",
    "Let\n",
    "\n",
    "$$\n",
    "y_1(x) = u(x), \\quad y_2(x) = u'(x), \\quad\n",
    "y_3(x) = u^{(2)}(x), \\quad \\dotsc \\quad, y_{m}(x) = u^{(m-1)}(x)\n",
    "$$\n",
    "\n",
    "such that\n",
    "\n",
    "\\begin{align*}\n",
    "  y_1' &= y_2, & y_1(a) &= u(a) \\\\ \n",
    "  y_2' &= y_3, & y_2(a) &= u'(a) \\\\ \n",
    "       & \\vdots  && \\vdots\\\\ \n",
    "  y_{m-1}' &= y_m, & y_{m-1}(a) &= u^{(m-2)}(a) \\\\ \n",
    "  y_m' &= f(t, y_1, y_2, \\ldots, y_{m-1},y_m), & y_m(a) &= u^{(m-1)}(a)\n",
    "\\end{align*}\n",
    "\n",
    "which is nothing but a system of first order ODEs, and can be solved numerically\n",
    "exactly as before."
   ]
  },
  {
   "cell_type": "markdown",
   "id": "1b3f9e67",
   "metadata": {
    "editable": true,
    "slideshow": {
     "slide_type": "slide"
    },
    "tags": []
   },
   "source": [
    ":::{exercise-start} Numerical solution of Van der Pol's equation\n",
    ":label: exe:van-der-pol-numerics\n",
    ":::\n",
    "\n",
    "Recalling {prf:ref}`ode:exa:van-der-pol`, the Van der Pol oscillator\n",
    "is described by the second order differential equation\n",
    "\n",
    "$$\n",
    "u'' = \\mu (1-u^2)u' - u, \\qquad u(0)=u_0, \\quad u'(0)=u_0'.\n",
    "$$\n",
    "\n",
    "It can be rewritten as a system of first order ODEs:\n",
    "\n",
    "\\begin{align*}\n",
    "y_1' &= y_2, & y_1(0) &= u_0,  \\\\ \n",
    "y_2' &= \\mu(1-y_1^2)y_2 - y_1, & y_2(0) &= u_0'.\n",
    "\\end{align*}"
   ]
  },
  {
   "cell_type": "markdown",
   "id": "aed8f754",
   "metadata": {
    "editable": true,
    "slideshow": {
     "slide_type": "slide"
    },
    "tags": []
   },
   "source": [
    "**a)**\n",
    "Let  $\\mu=2$, $u(0)=2$ and $u'(0)=0$ and solve the equation over the interval\n",
    "$[0,20]$, using the explicit Euler and $\\tau=0.05$. Play with different\n",
    "step sizes, and maybe also with different values of $\\mu$.\n",
    "\n",
    "**b)**\n",
    "Repeat the previous numerical experiment with Heun's method.\n",
    "Try to compare the number of steps you need to perform\n",
    "with Euler vs Heun to obtain visually the \"same\" solution.\n",
    "(That is, you measure the difference of the two numerical solutions\n",
    "in the \"eyeball norm\".)\n",
    "\n",
    ":::{exercise-end}\n",
    ":::"
   ]
  },
  {
   "cell_type": "code",
   "execution_count": null,
   "id": "3e13223a",
   "metadata": {
    "editable": true,
    "slideshow": {
     "slide_type": "slide"
    },
    "tags": []
   },
   "outputs": [],
   "source": [
    "# Insert code here."
   ]
  },
  {
   "cell_type": "markdown",
   "id": "6f3a6973",
   "metadata": {
    "editable": true,
    "slideshow": {
     "slide_type": "slide"
    },
    "tags": []
   },
   "source": [
    ":::{solution-start} exe:van-der-pol-numerics\n",
    ":::"
   ]
  },
  {
   "cell_type": "code",
   "execution_count": null,
   "id": "975b5b27",
   "metadata": {
    "editable": true,
    "slideshow": {
     "slide_type": "fragment"
    },
    "tags": []
   },
   "outputs": [],
   "source": [
    "# Define the ODE\n",
    "def f(t, y):\n",
    "    mu = 2\n",
    "    dy = np.array([y[1],\n",
    "                mu*(1-y[0]**2)*y[1]-y[0] ])\n",
    "    return dy\n",
    "\n",
    "# Set initial time, stop time and initial value\n",
    "t0, T - 0, 20\n",
    "y0 = np.array([2,0])\n",
    "\n",
    "# Solve the equation using Euler and plot\n",
    "tau = 0.05\n",
    "Nmax = int(20/tau)\n",
    "print(\"Nmax = {:4}\".format(Nmax))\n",
    "ts, ys_eul  = explicit_euler(y0, t0, T, f, Nmax)\n",
    "\n",
    "plt.figure()\n",
    "plt.plot(ts,ys_eul, \"--\");\n",
    "\n",
    "# Solve the equation using Heun\n",
    "tau = 0.05\n",
    "Nmax = int(20/tau)\n",
    "print(\"Nmax = {:4}\".format(Nmax))\n",
    "ts, ys_heun = heun(y0, t0, T, f, Nmax)\n",
    "\n",
    "plt.plot(ts,ys_heun);\n",
    "plt.xlabel('x')\n",
    "plt.title('Van der Pols ligning')\n",
    "plt.legend(['y1 - Euler','y2 - Euler', 'y1 - Heun','y2 - Heun'],loc='upper right');"
   ]
  },
  {
   "cell_type": "markdown",
   "id": "919d8ae8",
   "metadata": {
    "editable": true,
    "slideshow": {
     "slide_type": ""
    },
    "tags": []
   },
   "source": [
    ":::{solution-end}\n",
    ":::"
   ]
  },
  {
   "cell_type": "markdown",
   "id": "f8cd17ca-6909-48b6-92a7-9590a87ce28e",
   "metadata": {
    "editable": true,
    "slideshow": {
     "slide_type": "slide"
    },
    "tags": []
   },
   "source": [
    ":::{prf:observation} Euler vs. Heun\n",
    "\n",
    "We clearly see that Heun's method requires far fewer time steps compared to Euler's method to obtain the same (visual) solution. For instance, in the case of the Lotka-Volterra example we need with $\\tau \\approx 10^{-4}$ roughly 1000x more time steps for Euler than for Heuler's method, which produced visually the same solution for $\\tau = 0.1$ \n",
    "\n",
    "Looking back at algorithmic realization of {prf:ref}`Euler's method<ode:alg:euler-meth>` and {prf:ref}`Heun's method<ode:alg:heun-meth>` we can compare the estimated cost for **a single time step**. Assuming that the evalution\n",
    "of the rhs $f$ dominants the overall runtime cost, we observe that Euler's method requires one function evaluation\n",
    "while Heun's method's requires two function evaluation. That means that a single time step in Heun's method cost roughly twice as much as Euler's method. With the total number of time steps required by each method,\n",
    "we expect that Heun's method will result a speed up factor of roughly 500.\n",
    ":::"
   ]
  },
  {
   "cell_type": "markdown",
   "id": "9898fb85-dc56-40bf-bded-ddcedb6e5012",
   "metadata": {
    "editable": true,
    "slideshow": {
     "slide_type": "slide"
    },
    "tags": []
   },
   "source": [
    "Let's check whether we obtain the estimated speed factor by measuring the executation time of each solution method.\n",
    "\n",
    "To do so you can use ```%timeit``` and ```%%timeit``` magic functions in IPython/Jupyterlab,\n",
    "see [corresponding documentation](https://ipython.readthedocs.io/en/stable/interactive/magics.html#magic-timeit).\n",
    "\n",
    "In a nutshell, ```%%timeit``` measures the executation time of an entire cell, while ```%timeit```\n",
    "only measures only the executation time of a single line, e.g. as in\n",
    "\n",
    "```ipython\n",
    "%timeit my_function()\n",
    "```"
   ]
  },
  {
   "cell_type": "markdown",
   "id": "9cd34912-76d4-43bc-a139-51afea75b9fd",
   "metadata": {
    "editable": true,
    "slideshow": {
     "slide_type": "slide"
    },
    "tags": []
   },
   "source": [
    "__Regarding the usage of ```timeit```:__\n",
    "To obtain reliable timeings, ```timeit``` does not perform a single run, but\n",
    "rather a number of runs <R>, and in each run, the given statement is executed \n",
    "<N> times in a loop. This can sometimes lead to large waiting time, so you can change that by \n",
    "time\n",
    "```python\n",
    "%timeit -r <R> -n <N> my_function()\n",
    "```\n",
    "Also if you want to store the value of the best run by passing the option ```-o```:\n",
    "\n",
    "```python\n",
    "timings_data = %timeit -o my_function()\n",
    "```\n",
    "    \n",
    "which stores the data from the timing experiment. You can access the best time measured\n",
    "in seconds by\n",
    "```python\n",
    "timings_data.best\n",
    "```"
   ]
  },
  {
   "cell_type": "code",
   "execution_count": null,
   "id": "720de518-e2d6-493b-adff-1ae7db12f374",
   "metadata": {
    "editable": true,
    "slideshow": {
     "slide_type": "slide"
    },
    "tags": []
   },
   "outputs": [],
   "source": [
    "t0, T = 0, 20            # Integration interval\n",
    "y0 = np.array([2, 0.5])  # Initital values"
   ]
  },
  {
   "cell_type": "code",
   "execution_count": null,
   "id": "94d2c3b5-4798-485a-a8a8-f80dd5b1917d",
   "metadata": {
    "editable": true,
    "slideshow": {
     "slide_type": "fragment"
    },
    "tags": []
   },
   "outputs": [],
   "source": [
    "%%timeit\n",
    "tau = 1e-4\n",
    "Nmax = int(20/tau)\n",
    "ts, ys_eul = explicit_euler(y0, t0, T, lotka_volterra, Nmax)"
   ]
  },
  {
   "cell_type": "code",
   "execution_count": null,
   "id": "6541ca0f-0801-4cf6-b34c-bb2f4b803cec",
   "metadata": {
    "editable": true,
    "slideshow": {
     "slide_type": "fragment"
    },
    "tags": []
   },
   "outputs": [],
   "source": [
    "%%timeit\n",
    "tau = 0.1\n",
    "Nmax = int(20/tau)\n",
    "ts, ys_heun = heun(y0, t0, T, lotka_volterra, Nmax)"
   ]
  }
 ],
 "metadata": {
  "jupytext": {
   "formats": "ipynb,md:myst"
  },
  "kernelspec": {
   "display_name": "Python 3 (ipykernel)",
   "language": "python",
   "name": "python3"
  },
  "language_info": {
   "codemirror_mode": {
    "name": "ipython",
    "version": 3
   },
   "file_extension": ".py",
   "mimetype": "text/x-python",
   "name": "python",
   "nbconvert_exporter": "python",
   "pygments_lexer": "ipython3",
   "version": "3.13.2"
  }
 },
 "nbformat": 4,
 "nbformat_minor": 5
}
